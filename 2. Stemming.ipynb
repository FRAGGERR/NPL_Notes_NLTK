{
 "cells": [
  {
   "cell_type": "markdown",
   "id": "b2079781-16d9-43b2-8985-78049add4447",
   "metadata": {},
   "source": [
    "### Stemming"
   ]
  },
  {
   "cell_type": "markdown",
   "id": "175bb462-9d4a-4257-9039-79aa118190ba",
   "metadata": {},
   "source": [
    "Stemming is the process of reducing a word to its word stem that affixes to suffixes and prefixes or to the roots of words known as a lemma. Stemming is important in natural language understanding (NLU) and natural language processing (NLP)."
   ]
  },
  {
   "cell_type": "code",
   "execution_count": 35,
   "id": "a5093dee-9e1b-45a6-aa26-0d4ed2be53dc",
   "metadata": {},
   "outputs": [],
   "source": [
    "import nltk"
   ]
  },
  {
   "cell_type": "code",
   "execution_count": 36,
   "id": "db0d2c17-b25c-4702-bf9d-299eb55d2746",
   "metadata": {},
   "outputs": [],
   "source": [
    "words = ['eating', 'eat', 'eaten', 'writing', 'writen', 'write', 'handling', 'handle', 'working', 'work', 'history', 'programming', 'programmer', 'program']"
   ]
  },
  {
   "cell_type": "markdown",
   "id": "10c1dc2c-60b1-4dff-98df-3ce1721205b8",
   "metadata": {},
   "source": [
    "### PorterStemmer"
   ]
  },
  {
   "cell_type": "code",
   "execution_count": 37,
   "id": "b90c5d91-a29d-4393-b4bc-71635f441d95",
   "metadata": {},
   "outputs": [],
   "source": [
    "from nltk.stem import PorterStemmer"
   ]
  },
  {
   "cell_type": "code",
   "execution_count": 38,
   "id": "12d81153-edf3-4b22-b86a-12e0d58105b2",
   "metadata": {},
   "outputs": [],
   "source": [
    "stemming = PorterStemmer()"
   ]
  },
  {
   "cell_type": "code",
   "execution_count": 39,
   "id": "c2706c9c-9f3d-4887-866a-209404a42130",
   "metadata": {},
   "outputs": [
    {
     "name": "stdout",
     "output_type": "stream",
     "text": [
      "eating ---> eat\n",
      "eat ---> eat\n",
      "eaten ---> eaten\n",
      "writing ---> write\n",
      "writen ---> writen\n",
      "write ---> write\n",
      "handling ---> handl\n",
      "handle ---> handl\n",
      "working ---> work\n",
      "work ---> work\n",
      "history ---> histori\n",
      "programming ---> program\n",
      "programmer ---> programm\n",
      "program ---> program\n"
     ]
    }
   ],
   "source": [
    "for word in words:\n",
    "    print(word +\" ---> \"+ stemming.stem(word))"
   ]
  },
  {
   "cell_type": "markdown",
   "id": "915c8450-e6c0-41ea-a326-3a6243a8dc31",
   "metadata": {},
   "source": [
    "### RegexpStemmer"
   ]
  },
  {
   "cell_type": "code",
   "execution_count": 40,
   "id": "797f3f83-5700-4e92-9e92-a09e5dfc520c",
   "metadata": {},
   "outputs": [],
   "source": [
    "from nltk.stem import RegexpStemmer"
   ]
  },
  {
   "cell_type": "code",
   "execution_count": 41,
   "id": "90bf3494-5c08-4a41-8798-3cbffdfa9670",
   "metadata": {},
   "outputs": [],
   "source": [
    "reg_stemmer = RegexpStemmer('ing$|s$|e$|able$', min=4)"
   ]
  },
  {
   "cell_type": "code",
   "execution_count": 42,
   "id": "531a2cd8-262c-4fbd-ab94-06367fbb38ba",
   "metadata": {},
   "outputs": [
    {
     "name": "stdout",
     "output_type": "stream",
     "text": [
      "eating ---> eat\n",
      "eat ---> eat\n",
      "eaten ---> eaten\n",
      "writing ---> writ\n",
      "writen ---> writen\n",
      "write ---> writ\n",
      "handling ---> handl\n",
      "handle ---> handl\n",
      "working ---> work\n",
      "work ---> work\n",
      "history ---> history\n",
      "programming ---> programm\n",
      "programmer ---> programmer\n",
      "program ---> program\n"
     ]
    }
   ],
   "source": [
    "for word in words:\n",
    "    print(word +\" ---> \"+ reg_stemmer.stem(word))"
   ]
  },
  {
   "cell_type": "code",
   "execution_count": 43,
   "id": "df055c65-2f54-4969-a4a4-bad97f84ee06",
   "metadata": {},
   "outputs": [
    {
     "data": {
      "text/plain": [
       "'fight'"
      ]
     },
     "execution_count": 43,
     "metadata": {},
     "output_type": "execute_result"
    }
   ],
   "source": [
    "reg_stemmer.stem('fighting')"
   ]
  },
  {
   "cell_type": "markdown",
   "id": "e3647307-99ff-4064-9f50-e7c0da9b2433",
   "metadata": {},
   "source": [
    "### Snowball Stemmer"
   ]
  },
  {
   "cell_type": "markdown",
   "id": "3d9b68d8-1f05-4df9-b6aa-b38fc4c15301",
   "metadata": {},
   "source": [
    "It is a stemming algorithm which is also known as the Porter2 stemming algorithm as it is a better version of the Porter Stemmer since some issues of it were fixed in this stemmer."
   ]
  },
  {
   "cell_type": "code",
   "execution_count": 44,
   "id": "30f04435-42d8-4dbb-87f6-65152154dbd0",
   "metadata": {},
   "outputs": [],
   "source": [
    "from nltk.stem import SnowballStemmer"
   ]
  },
  {
   "cell_type": "code",
   "execution_count": 45,
   "id": "df4019ff-c168-4e06-bba1-99dc73e99d40",
   "metadata": {},
   "outputs": [],
   "source": [
    "snowballstemmer = SnowballStemmer('english')"
   ]
  },
  {
   "cell_type": "code",
   "execution_count": 46,
   "id": "b7eaff05-744a-4c5c-ba3f-a639c407ec55",
   "metadata": {},
   "outputs": [
    {
     "name": "stdout",
     "output_type": "stream",
     "text": [
      "eating ---> eat\n",
      "eat ---> eat\n",
      "eaten ---> eaten\n",
      "writing ---> write\n",
      "writen ---> writen\n",
      "write ---> write\n",
      "handling ---> handl\n",
      "handle ---> handl\n",
      "working ---> work\n",
      "work ---> work\n",
      "history ---> histori\n",
      "programming ---> program\n",
      "programmer ---> programm\n",
      "program ---> program\n"
     ]
    }
   ],
   "source": [
    "for word in words:\n",
    "    print(word +\" ---> \"+ snowballstemmer.stem(word))"
   ]
  },
  {
   "cell_type": "code",
   "execution_count": 47,
   "id": "59a0cef3-cb68-4f02-af85-50ed361fa8e5",
   "metadata": {},
   "outputs": [
    {
     "data": {
      "text/plain": [
       "('fairli', 'sportingli')"
      ]
     },
     "execution_count": 47,
     "metadata": {},
     "output_type": "execute_result"
    }
   ],
   "source": [
    "stemming.stem(\"fairly\"),stemming.stem(\"sportingly\")"
   ]
  },
  {
   "cell_type": "code",
   "execution_count": 49,
   "id": "f825bea1-cd2c-4d7c-9f22-a09693563a29",
   "metadata": {},
   "outputs": [
    {
     "data": {
      "text/plain": [
       "('fair', 'sport')"
      ]
     },
     "execution_count": 49,
     "metadata": {},
     "output_type": "execute_result"
    }
   ],
   "source": [
    "snowballstemmer.stem(\"fairly\"),snowballstemmer.stem(\"sportingly\")"
   ]
  },
  {
   "cell_type": "code",
   "execution_count": null,
   "id": "d8c5dc46-9a39-463b-b263-2683c6ca3ae3",
   "metadata": {},
   "outputs": [],
   "source": []
  }
 ],
 "metadata": {
  "kernelspec": {
   "display_name": "Python 3 (ipykernel)",
   "language": "python",
   "name": "python3"
  },
  "language_info": {
   "codemirror_mode": {
    "name": "ipython",
    "version": 3
   },
   "file_extension": ".py",
   "mimetype": "text/x-python",
   "name": "python",
   "nbconvert_exporter": "python",
   "pygments_lexer": "ipython3",
   "version": "3.10.13"
  }
 },
 "nbformat": 4,
 "nbformat_minor": 5
}
