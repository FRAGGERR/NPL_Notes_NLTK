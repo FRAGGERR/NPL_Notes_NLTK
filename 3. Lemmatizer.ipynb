{
 "cells": [
  {
   "cell_type": "markdown",
   "id": "7e7f0827-be0d-4d8d-8da0-da4380bdd33a",
   "metadata": {},
   "source": [
    "## Wordnet Lemmatizer"
   ]
  },
  {
   "cell_type": "markdown",
   "id": "d7f1f3cb-4044-4534-ad09-a7e8f22384c9",
   "metadata": {},
   "source": [
    "Lemmatization technique is like stemming. The output we will get after lemmatization is called ‘lemma’, which is a root word rather than root stem, the output of stemming. After lemmatization, we will be getting a valid word that means the same thing.\n",
    "\n",
    "NLTK provides WordNetLemmatizer class which is a thin wrapper around the wordnet corpus. This class uses morphy() function to the WordNet CorpusReader class to find a lemma. Let us understand it with an example −"
   ]
  },
  {
   "cell_type": "code",
   "execution_count": 11,
   "id": "a419e19a-158a-47eb-8b7c-ce7a0dbc9564",
   "metadata": {},
   "outputs": [
    {
     "name": "stderr",
     "output_type": "stream",
     "text": [
      "[nltk_data] Downloading package wordnet to /root/nltk_data...\n"
     ]
    },
    {
     "data": {
      "text/plain": [
       "True"
      ]
     },
     "execution_count": 11,
     "metadata": {},
     "output_type": "execute_result"
    }
   ],
   "source": [
    "import nltk\n",
    "nltk.download('wordnet')"
   ]
  },
  {
   "cell_type": "code",
   "execution_count": 12,
   "id": "87b12edf-485a-4d31-b93d-e09250f09243",
   "metadata": {},
   "outputs": [],
   "source": [
    "from nltk.stem import WordNetLemmatizer"
   ]
  },
  {
   "cell_type": "code",
   "execution_count": 13,
   "id": "d188cfb9-b7d1-4487-8507-8cd5cb82eba9",
   "metadata": {},
   "outputs": [],
   "source": [
    "lemmatizer = WordNetLemmatizer()"
   ]
  },
  {
   "cell_type": "code",
   "execution_count": 14,
   "id": "f8804c62-5137-4f7c-b72b-b00750901c01",
   "metadata": {},
   "outputs": [],
   "source": [
    "words = ['eating', 'eat', 'eaten', 'writing', 'writen', 'write', 'handling', 'handle', 'working', 'work', 'history', 'programming', 'programmer', 'program', 'India', 'Indians']"
   ]
  },
  {
   "cell_type": "markdown",
   "id": "8d93d173-a062-42a4-bcf6-eef14bfcb304",
   "metadata": {},
   "source": [
    "Param pos: The Part Of Speech tag. \n",
    "Valid options are `\"n\"` for nouns, `\"v\"` for verbs, `\"a\"` for adjectives, `\"r\"` for adverbs and `\"s\"` for satellite adjectives."
   ]
  },
  {
   "cell_type": "code",
   "execution_count": 19,
   "id": "6404ff4b-4fd2-4dfa-84c4-9d363c6cda35",
   "metadata": {},
   "outputs": [
    {
     "name": "stdout",
     "output_type": "stream",
     "text": [
      "eating ---> eat\n",
      "eat ---> eat\n",
      "eaten ---> eat\n",
      "writing ---> write\n",
      "writen ---> writen\n",
      "write ---> write\n",
      "handling ---> handle\n",
      "handle ---> handle\n",
      "working ---> work\n",
      "work ---> work\n",
      "history ---> history\n",
      "programming ---> program\n",
      "programmer ---> programmer\n",
      "program ---> program\n",
      "India ---> India\n",
      "Indians ---> Indians\n"
     ]
    }
   ],
   "source": [
    "for word in words:\n",
    "    print(word + \" ---> \" + lemmatizer.lemmatize(word, pos = 'v'))"
   ]
  },
  {
   "cell_type": "code",
   "execution_count": null,
   "id": "d12ce7d5-b4f4-4a39-b235-45ffb26bdd16",
   "metadata": {},
   "outputs": [],
   "source": []
  }
 ],
 "metadata": {
  "kernelspec": {
   "display_name": "Python 3 (ipykernel)",
   "language": "python",
   "name": "python3"
  },
  "language_info": {
   "codemirror_mode": {
    "name": "ipython",
    "version": 3
   },
   "file_extension": ".py",
   "mimetype": "text/x-python",
   "name": "python",
   "nbconvert_exporter": "python",
   "pygments_lexer": "ipython3",
   "version": "3.10.13"
  }
 },
 "nbformat": 4,
 "nbformat_minor": 5
}
